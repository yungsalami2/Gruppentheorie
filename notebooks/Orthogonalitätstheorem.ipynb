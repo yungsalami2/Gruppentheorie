{
 "cells": [
  {
   "cell_type": "markdown",
   "id": "9a130969",
   "metadata": {},
   "source": [
    "# Orthogonalitätstheorem\n",
    "-------------------\n",
    "\n",
    "$$ \n",
    "\\begin{align}\n",
    "\\sum_{a\\in G} \\Gamma_{i,j}^p(a)\\Gamma_{k,l}^{p'}(a^{-1}) = \\frac{g}{d}\\delta_{i,l}\\delta_{j,k}\\delta_{p,p'}\n",
    "\\end{align}\n",
    "$$\n",
    "\n",
    "\n",
    "## Beweis:\n",
    "\n",
    "(1) Wir definieren die Matrix:\n",
    "\n",
    "$$\n",
    "\\tilde{P} = \\sum_{a \\in G} \\tilde{\\Gamma}^p(a)\\cdot\\tilde{Z}\\cdot\\tilde{\\Gamma}^{p'}(a)^{-1}\n",
    "$$\n",
    "\n",
    "(2) Für diese Matrix gilt folgende **Identität**\n",
    "\n",
    "$$\n",
    "\\tilde{P}\\cdot\\tilde{\\Gamma}^{p'}(b) = \\tilde{\\Gamma}^{p}(b)\\cdot\\tilde{P}\n",
    "$$\n",
    "denn\n",
    "$$\n",
    "\\begin{align}\n",
    "\\tilde{P}\\cdot\\tilde{\\Gamma}^{p'}(b) &= \\sum_{a \\in G} \\tilde{\\Gamma}^p(a)\\cdot\\tilde{Z}\\cdot\\tilde{\\Gamma}^{p'}(a)^{-1}\\tilde{\\Gamma}^{p'}(b) \\\\\n",
    "&= \\sum_{a \\in G} \\tilde{\\Gamma}^p(a)\\cdot\\tilde{Z}\\cdot\\left[\\tilde{\\Gamma}^{p'}(b)^{-1}\\tilde{\\Gamma}^{p'}(a)\\right]^{-1} \\\\\n",
    "&= \\sum_{a \\in G} \\left[\\tilde{\\Gamma}^{p}(b)\\cdot\\tilde{\\Gamma}^{p}(b)^{-1}\\right]\\tilde{\\Gamma}^p(a)\\cdot\\tilde{Z}\\cdot\\left[\\tilde{\\Gamma}^{p'}(b)^{-1}\\cdot\\tilde{\\Gamma}^{p'}(a)\\right]^{-1} \\\\\n",
    "&= \\sum_{a \\in G} \\tilde{\\Gamma}^{p}(b)\\cdot\\left[\\tilde{\\Gamma}^{p}(b)^{-1}\\cdot\\tilde{\\Gamma}^p(a)\\right]\\cdot\\tilde{Z}\\cdot\\left[\\tilde{\\Gamma}^{p'}(b)^{-1}\\cdot\\tilde{\\Gamma}^{p'}(a)\\right]^{-1} \\\\\n",
    "&= \\tilde{\\Gamma}^{p}(b)\\cdot\\sum_{a \\in G} \\left[\\tilde{\\Gamma}^{p}(b)^{-1}\\cdot\\tilde{\\Gamma}^p(a)\\right]\\cdot\\tilde{Z}\\cdot\\left[\\tilde{\\Gamma}^{p'}(b)^{-1}\\cdot\\tilde{\\Gamma}^{p'}(a)\\right]^{-1}  \\\\\n",
    "&= \\tilde{\\Gamma}^{p}(b)\\cdot\\sum_{a \\in G} \\left[\\tilde{\\Gamma}^{p}(b^{-1}\\cdot a)\\right]\\cdot\\tilde{Z}\\cdot\\left[\\tilde{\\Gamma}^{p'}(b^{-1}\\cdot a)\\right]^{-1} \\\\\n",
    "&\\stackrel{\\text{(Umordnungssatz)}}{=}\\tilde{\\Gamma}^{p}(b)\\cdot\\tilde{P} \\\\\n",
    "\\end{align}\n",
    "$$\n",
    "\n",
    "(3) Wir haben Z nicht eingeschränkt. Wir wählen Z nun als Matrix, deren Elemente überall null ist ausser in einem Eintrag, dort ist der Eintrag 1:\n",
    "$$\n",
    "(Z)_{m,n} = \\delta_{m,j}\\delta_{n,i}\n",
    "$$\n",
    "\n",
    "\n",
    "(4) Nun brauchen wir die **Schur'schen Lemma**:"
   ]
  }
 ],
 "metadata": {
  "kernelspec": {
   "display_name": "Python 3",
   "language": "python",
   "name": "python3"
  },
  "language_info": {
   "codemirror_mode": {
    "name": "ipython",
    "version": 3
   },
   "file_extension": ".py",
   "mimetype": "text/x-python",
   "name": "python",
   "nbconvert_exporter": "python",
   "pygments_lexer": "ipython3",
   "version": "3.8.10"
  }
 },
 "nbformat": 4,
 "nbformat_minor": 5
}
