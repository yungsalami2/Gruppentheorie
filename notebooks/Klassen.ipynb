{
 "cells": [
  {
   "cell_type": "code",
   "execution_count": 1,
   "id": "429bd92c",
   "metadata": {},
   "outputs": [],
   "source": [
    "import numpy as np\n",
    "import pandas as pd\n",
    "np.set_printoptions(suppress=True)"
   ]
  },
  {
   "cell_type": "markdown",
   "id": "af5829f8",
   "metadata": {},
   "source": [
    "# Klassen\n",
    "--------------------\n",
    "**G** sein eine Gruppe. **a,b,x** $\\in$ G. \n",
    "\n",
    "Elemente gehören in einer Klasse, wenn sie "
   ]
  }
 ],
 "metadata": {
  "kernelspec": {
   "display_name": "Python 3",
   "language": "python",
   "name": "python3"
  },
  "language_info": {
   "codemirror_mode": {
    "name": "ipython",
    "version": 3
   },
   "file_extension": ".py",
   "mimetype": "text/x-python",
   "name": "python",
   "nbconvert_exporter": "python",
   "pygments_lexer": "ipython3",
   "version": "3.8.10"
  }
 },
 "nbformat": 4,
 "nbformat_minor": 5
}
