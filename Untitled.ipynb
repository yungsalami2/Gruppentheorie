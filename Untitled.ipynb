{
 "cells": [
  {
   "cell_type": "markdown",
   "id": "ebadafa1",
   "metadata": {},
   "source": [
    "# Hands-On: Gruppentheorie\n"
   ]
  },
  {
   "cell_type": "markdown",
   "id": "a9da0f05",
   "metadata": {},
   "source": [
    "## Darstellung\n",
    "\n",
    "Man kann Punktgruppen und deren Eigenschaften, also wie sie untereinander verknüpfen theoretisch auf viele Arten und Weise darstellen. Aber als praktischste Art haben sich Matrizen dargestellt, in der Physik insbesondere  $\\Gamma\\in GL(\\mathbb{C})^{[3x3]}$\n",
    "\n",
    "Schließlich kann man Matritzen, so wählen dass sie alle Eigenschaften wie Drehungen, Spiegelungen, Inversion und sonstige im 3D-Raum ausführen, aber vor allem auch abgeschlossen sind, d.h. das Produkt unter den Matrizen einer Gruppe kann nur eine Matrix aus jener Gruppe ergeben. \n",
    "\n",
    "### Beispiel:\n"
   ]
  }
 ],
 "metadata": {
  "kernelspec": {
   "display_name": "Python 3",
   "language": "python",
   "name": "python3"
  },
  "language_info": {
   "codemirror_mode": {
    "name": "ipython",
    "version": 3
   },
   "file_extension": ".py",
   "mimetype": "text/x-python",
   "name": "python",
   "nbconvert_exporter": "python",
   "pygments_lexer": "ipython3",
   "version": "3.8.10"
  }
 },
 "nbformat": 4,
 "nbformat_minor": 5
}
